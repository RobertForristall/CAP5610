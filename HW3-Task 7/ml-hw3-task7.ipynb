{
 "cells": [
  {
   "cell_type": "markdown",
   "metadata": {},
   "source": [
    "# CAP 5610 HW3 Task 7\n",
    "## Robert Forristall"
   ]
  },
  {
   "cell_type": "code",
   "execution_count": 1,
   "metadata": {
    "execution": {
     "iopub.execute_input": "2021-10-07T21:20:08.241426Z",
     "iopub.status.busy": "2021-10-07T21:20:08.241118Z",
     "iopub.status.idle": "2021-10-07T21:20:08.257387Z",
     "shell.execute_reply": "2021-10-07T21:20:08.256247Z",
     "shell.execute_reply.started": "2021-10-07T21:20:08.241375Z"
    }
   },
   "outputs": [],
   "source": [
    "# Import all neccessary libaries\n",
    "from sklearn.svm import SVC\n",
    "from sklearn.model_selection import cross_val_score\n",
    "import numpy as np \n",
    "import pandas as pd \n",
    "\n",
    "# Import data\n",
    "training_data = pd.read_csv('train.csv')"
   ]
  },
  {
   "cell_type": "markdown",
   "metadata": {},
   "source": [
    "# Data Visualization\n",
    "\n",
    "This section is used to visual the data and gain insight on what features may be important/irrelevant, the type of each feature, and how much missing data is in the training set"
   ]
  },
  {
   "cell_type": "code",
   "execution_count": 2,
   "metadata": {
    "execution": {
     "iopub.execute_input": "2021-10-07T21:20:08.258693Z",
     "iopub.status.busy": "2021-10-07T21:20:08.258449Z",
     "iopub.status.idle": "2021-10-07T21:20:08.300327Z",
     "shell.execute_reply": "2021-10-07T21:20:08.299494Z",
     "shell.execute_reply.started": "2021-10-07T21:20:08.258665Z"
    }
   },
   "outputs": [
    {
     "name": "stdout",
     "output_type": "stream",
     "text": [
      "<bound method DataFrame.info of      PassengerId  Survived  Pclass  \\\n",
      "0              1         0       3   \n",
      "1              2         1       1   \n",
      "2              3         1       3   \n",
      "3              4         1       1   \n",
      "4              5         0       3   \n",
      "..           ...       ...     ...   \n",
      "886          887         0       2   \n",
      "887          888         1       1   \n",
      "888          889         0       3   \n",
      "889          890         1       1   \n",
      "890          891         0       3   \n",
      "\n",
      "                                                  Name     Sex   Age  SibSp  \\\n",
      "0                              Braund, Mr. Owen Harris    male  22.0      1   \n",
      "1    Cumings, Mrs. John Bradley (Florence Briggs Th...  female  38.0      1   \n",
      "2                               Heikkinen, Miss. Laina  female  26.0      0   \n",
      "3         Futrelle, Mrs. Jacques Heath (Lily May Peel)  female  35.0      1   \n",
      "4                             Allen, Mr. William Henry    male  35.0      0   \n",
      "..                                                 ...     ...   ...    ...   \n",
      "886                              Montvila, Rev. Juozas    male  27.0      0   \n",
      "887                       Graham, Miss. Margaret Edith  female  19.0      0   \n",
      "888           Johnston, Miss. Catherine Helen \"Carrie\"  female   NaN      1   \n",
      "889                              Behr, Mr. Karl Howell    male  26.0      0   \n",
      "890                                Dooley, Mr. Patrick    male  32.0      0   \n",
      "\n",
      "     Parch            Ticket     Fare Cabin Embarked  \n",
      "0        0         A/5 21171   7.2500   NaN        S  \n",
      "1        0          PC 17599  71.2833   C85        C  \n",
      "2        0  STON/O2. 3101282   7.9250   NaN        S  \n",
      "3        0            113803  53.1000  C123        S  \n",
      "4        0            373450   8.0500   NaN        S  \n",
      "..     ...               ...      ...   ...      ...  \n",
      "886      0            211536  13.0000   NaN        S  \n",
      "887      0            112053  30.0000   B42        S  \n",
      "888      2        W./C. 6607  23.4500   NaN        S  \n",
      "889      0            111369  30.0000  C148        C  \n",
      "890      0            370376   7.7500   NaN        Q  \n",
      "\n",
      "[891 rows x 12 columns]>\n"
     ]
    },
    {
     "data": {
      "text/html": [
       "<div>\n",
       "<style scoped>\n",
       "    .dataframe tbody tr th:only-of-type {\n",
       "        vertical-align: middle;\n",
       "    }\n",
       "\n",
       "    .dataframe tbody tr th {\n",
       "        vertical-align: top;\n",
       "    }\n",
       "\n",
       "    .dataframe thead th {\n",
       "        text-align: right;\n",
       "    }\n",
       "</style>\n",
       "<table border=\"1\" class=\"dataframe\">\n",
       "  <thead>\n",
       "    <tr style=\"text-align: right;\">\n",
       "      <th></th>\n",
       "      <th>PassengerId</th>\n",
       "      <th>Survived</th>\n",
       "      <th>Pclass</th>\n",
       "      <th>Age</th>\n",
       "      <th>SibSp</th>\n",
       "      <th>Parch</th>\n",
       "      <th>Fare</th>\n",
       "    </tr>\n",
       "  </thead>\n",
       "  <tbody>\n",
       "    <tr>\n",
       "      <th>count</th>\n",
       "      <td>891.000000</td>\n",
       "      <td>891.000000</td>\n",
       "      <td>891.000000</td>\n",
       "      <td>714.000000</td>\n",
       "      <td>891.000000</td>\n",
       "      <td>891.000000</td>\n",
       "      <td>891.000000</td>\n",
       "    </tr>\n",
       "    <tr>\n",
       "      <th>mean</th>\n",
       "      <td>446.000000</td>\n",
       "      <td>0.383838</td>\n",
       "      <td>2.308642</td>\n",
       "      <td>29.699118</td>\n",
       "      <td>0.523008</td>\n",
       "      <td>0.381594</td>\n",
       "      <td>32.204208</td>\n",
       "    </tr>\n",
       "    <tr>\n",
       "      <th>std</th>\n",
       "      <td>257.353842</td>\n",
       "      <td>0.486592</td>\n",
       "      <td>0.836071</td>\n",
       "      <td>14.526497</td>\n",
       "      <td>1.102743</td>\n",
       "      <td>0.806057</td>\n",
       "      <td>49.693429</td>\n",
       "    </tr>\n",
       "    <tr>\n",
       "      <th>min</th>\n",
       "      <td>1.000000</td>\n",
       "      <td>0.000000</td>\n",
       "      <td>1.000000</td>\n",
       "      <td>0.420000</td>\n",
       "      <td>0.000000</td>\n",
       "      <td>0.000000</td>\n",
       "      <td>0.000000</td>\n",
       "    </tr>\n",
       "    <tr>\n",
       "      <th>25%</th>\n",
       "      <td>223.500000</td>\n",
       "      <td>0.000000</td>\n",
       "      <td>2.000000</td>\n",
       "      <td>20.125000</td>\n",
       "      <td>0.000000</td>\n",
       "      <td>0.000000</td>\n",
       "      <td>7.910400</td>\n",
       "    </tr>\n",
       "    <tr>\n",
       "      <th>50%</th>\n",
       "      <td>446.000000</td>\n",
       "      <td>0.000000</td>\n",
       "      <td>3.000000</td>\n",
       "      <td>28.000000</td>\n",
       "      <td>0.000000</td>\n",
       "      <td>0.000000</td>\n",
       "      <td>14.454200</td>\n",
       "    </tr>\n",
       "    <tr>\n",
       "      <th>75%</th>\n",
       "      <td>668.500000</td>\n",
       "      <td>1.000000</td>\n",
       "      <td>3.000000</td>\n",
       "      <td>38.000000</td>\n",
       "      <td>1.000000</td>\n",
       "      <td>0.000000</td>\n",
       "      <td>31.000000</td>\n",
       "    </tr>\n",
       "    <tr>\n",
       "      <th>max</th>\n",
       "      <td>891.000000</td>\n",
       "      <td>1.000000</td>\n",
       "      <td>3.000000</td>\n",
       "      <td>80.000000</td>\n",
       "      <td>8.000000</td>\n",
       "      <td>6.000000</td>\n",
       "      <td>512.329200</td>\n",
       "    </tr>\n",
       "  </tbody>\n",
       "</table>\n",
       "</div>"
      ],
      "text/plain": [
       "       PassengerId    Survived      Pclass         Age       SibSp  \\\n",
       "count   891.000000  891.000000  891.000000  714.000000  891.000000   \n",
       "mean    446.000000    0.383838    2.308642   29.699118    0.523008   \n",
       "std     257.353842    0.486592    0.836071   14.526497    1.102743   \n",
       "min       1.000000    0.000000    1.000000    0.420000    0.000000   \n",
       "25%     223.500000    0.000000    2.000000   20.125000    0.000000   \n",
       "50%     446.000000    0.000000    3.000000   28.000000    0.000000   \n",
       "75%     668.500000    1.000000    3.000000   38.000000    1.000000   \n",
       "max     891.000000    1.000000    3.000000   80.000000    8.000000   \n",
       "\n",
       "            Parch        Fare  \n",
       "count  891.000000  891.000000  \n",
       "mean     0.381594   32.204208  \n",
       "std      0.806057   49.693429  \n",
       "min      0.000000    0.000000  \n",
       "25%      0.000000    7.910400  \n",
       "50%      0.000000   14.454200  \n",
       "75%      0.000000   31.000000  \n",
       "max      6.000000  512.329200  "
      ]
     },
     "execution_count": 2,
     "metadata": {},
     "output_type": "execute_result"
    }
   ],
   "source": [
    "print(training_data.info)\n",
    "training_data.describe()"
   ]
  },
  {
   "cell_type": "markdown",
   "metadata": {},
   "source": [
    "# Preprocessing Data"
   ]
  },
  {
   "cell_type": "code",
   "execution_count": 3,
   "metadata": {
    "execution": {
     "iopub.execute_input": "2021-10-07T21:20:08.302320Z",
     "iopub.status.busy": "2021-10-07T21:20:08.302104Z",
     "iopub.status.idle": "2021-10-07T21:20:08.315260Z",
     "shell.execute_reply": "2021-10-07T21:20:08.314494Z",
     "shell.execute_reply.started": "2021-10-07T21:20:08.302295Z"
    }
   },
   "outputs": [],
   "source": [
    "training_data_X = training_data.drop('Survived', axis='columns')\n",
    "training_data_Y = training_data['Survived']\n",
    "\n",
    "training_data_X['Age'] = training_data_X['Age'].fillna(training_data_X['Age'].mean())\n",
    "training_data_X['Sex'] = training_data_X['Sex'].map({'male': 0, 'female': 1})\n",
    "training_data_X['Embarked'] = training_data_X['Embarked'].fillna(training_data_X['Embarked'][0])\n",
    "training_data_X['Embarked'] = training_data_X['Embarked'].map({'S': 0, 'C': 1, 'Q': 2})"
   ]
  },
  {
   "cell_type": "markdown",
   "metadata": {},
   "source": [
    "# Feature Selection"
   ]
  },
  {
   "cell_type": "code",
   "execution_count": 4,
   "metadata": {
    "execution": {
     "iopub.execute_input": "2021-10-07T21:20:08.316576Z",
     "iopub.status.busy": "2021-10-07T21:20:08.316343Z",
     "iopub.status.idle": "2021-10-07T21:20:08.334825Z",
     "shell.execute_reply": "2021-10-07T21:20:08.334216Z",
     "shell.execute_reply.started": "2021-10-07T21:20:08.316542Z"
    }
   },
   "outputs": [
    {
     "name": "stdout",
     "output_type": "stream",
     "text": [
      "<class 'pandas.core.frame.DataFrame'>\n",
      "RangeIndex: 891 entries, 0 to 890\n",
      "Data columns (total 6 columns):\n",
      " #   Column  Non-Null Count  Dtype  \n",
      "---  ------  --------------  -----  \n",
      " 0   Pclass  891 non-null    int64  \n",
      " 1   Sex     891 non-null    int64  \n",
      " 2   Age     891 non-null    float64\n",
      " 3   SibSp   891 non-null    int64  \n",
      " 4   Parch   891 non-null    int64  \n",
      " 5   Fare    891 non-null    float64\n",
      "dtypes: float64(2), int64(4)\n",
      "memory usage: 41.9 KB\n",
      "None\n"
     ]
    }
   ],
   "source": [
    "training_data_X = training_data_X.drop(['PassengerId', 'Name', 'Ticket', 'Cabin', 'Embarked'], axis=\"columns\")\n",
    "\n",
    "print(training_data_X.info())"
   ]
  },
  {
   "cell_type": "markdown",
   "metadata": {},
   "source": [
    "# Create SVM model with linear kernel"
   ]
  },
  {
   "cell_type": "code",
   "execution_count": 5,
   "metadata": {
    "execution": {
     "iopub.execute_input": "2021-10-07T21:20:08.336298Z",
     "iopub.status.busy": "2021-10-07T21:20:08.335885Z",
     "iopub.status.idle": "2021-10-07T21:20:44.936162Z",
     "shell.execute_reply": "2021-10-07T21:20:44.935331Z",
     "shell.execute_reply.started": "2021-10-07T21:20:08.336261Z"
    }
   },
   "outputs": [
    {
     "name": "stdout",
     "output_type": "stream",
     "text": [
      "[0.80446927 0.80898876 0.78651685 0.75280899 0.78651685]\n",
      "0.7878601468834348\n"
     ]
    }
   ],
   "source": [
    "model_linear = SVC(kernel='linear')\n",
    "model_linear.fit(training_data_X, training_data_Y)\n",
    "\n",
    "cross_scores_linear = cross_val_score(model_linear, training_data_X, training_data_Y, cv=5)\n",
    "print(cross_scores_linear)\n",
    "print(np.average(cross_scores_linear))"
   ]
  },
  {
   "cell_type": "markdown",
   "metadata": {},
   "source": [
    "# Create SVM model with quadratic kernel"
   ]
  },
  {
   "cell_type": "code",
   "execution_count": 6,
   "metadata": {
    "execution": {
     "iopub.execute_input": "2021-10-07T21:20:44.938329Z",
     "iopub.status.busy": "2021-10-07T21:20:44.937789Z",
     "iopub.status.idle": "2021-10-07T21:20:45.050180Z",
     "shell.execute_reply": "2021-10-07T21:20:45.049337Z",
     "shell.execute_reply.started": "2021-10-07T21:20:44.938286Z"
    }
   },
   "outputs": [
    {
     "name": "stdout",
     "output_type": "stream",
     "text": [
      "[0.59776536 0.71348315 0.65730337 0.65730337 0.68539326]\n",
      "0.6622497018391814\n"
     ]
    }
   ],
   "source": [
    "model_poly = SVC(kernel='poly', degree=2)\n",
    "model_poly.fit(training_data_X, training_data_Y)\n",
    "\n",
    "cross_scores_poly = cross_val_score(model_poly, training_data_X, training_data_Y, cv=5)\n",
    "print(cross_scores_poly)\n",
    "print(np.average(cross_scores_poly))"
   ]
  },
  {
   "cell_type": "markdown",
   "metadata": {},
   "source": [
    "# Create SVM model with RBF kernel"
   ]
  },
  {
   "cell_type": "code",
   "execution_count": 7,
   "metadata": {
    "execution": {
     "iopub.execute_input": "2021-10-07T21:20:45.052180Z",
     "iopub.status.busy": "2021-10-07T21:20:45.051723Z",
     "iopub.status.idle": "2021-10-07T21:20:45.210492Z",
     "shell.execute_reply": "2021-10-07T21:20:45.209689Z",
     "shell.execute_reply.started": "2021-10-07T21:20:45.052140Z"
    }
   },
   "outputs": [
    {
     "name": "stdout",
     "output_type": "stream",
     "text": [
      "[0.59217877 0.71348315 0.69101124 0.68539326 0.69101124]\n",
      "0.674615529470843\n"
     ]
    }
   ],
   "source": [
    "model_rbf = SVC(kernel='rbf')\n",
    "model_rbf.fit(training_data_X, training_data_Y)\n",
    "\n",
    "cross_scores_rbf = cross_val_score(model_rbf, training_data_X, training_data_Y, cv=5)\n",
    "print(cross_scores_rbf)\n",
    "print(np.average(cross_scores_rbf))"
   ]
  },
  {
   "cell_type": "markdown",
   "metadata": {},
   "source": [
    "# Results Analysis\n",
    "\n",
    "Five Fold Cross Validations\n",
    "- Linear: [0.80446927 0.80898876 0.78651685 0.75280899 0.78651685]\n",
    "- Quadratic: [0.59776536 0.71348315 0.65730337 0.65730337 0.68539326]\n",
    "- RBF: [0.59217877 0.71348315 0.69101124 0.68539326 0.69101124]\n",
    "\n",
    "Averages of Five Fold Cross Validation\n",
    "- Linear: 0.7878601468834348\n",
    "- Quadratic: 0.6622497018391814 \n",
    "- RBF: 0.674615529470843\n",
    "\n",
    "Based on the validation scores for my models; it would seem that te best model was the linear model with the RBF being slightly better than quadratic but far behind linear"
   ]
  },
  {
   "cell_type": "code",
   "execution_count": null,
   "metadata": {
    "execution": {
     "iopub.execute_input": "2021-10-07T21:20:45.212398Z",
     "iopub.status.busy": "2021-10-07T21:20:45.211950Z",
     "iopub.status.idle": "2021-10-07T21:20:45.218523Z",
     "shell.execute_reply": "2021-10-07T21:20:45.217308Z",
     "shell.execute_reply.started": "2021-10-07T21:20:45.212358Z"
    }
   },
   "outputs": [],
   "source": []
  }
 ],
 "metadata": {
  "kernelspec": {
   "display_name": "Python 3",
   "language": "python",
   "name": "python3"
  },
  "language_info": {
   "codemirror_mode": {
    "name": "ipython",
    "version": 3
   },
   "file_extension": ".py",
   "mimetype": "text/x-python",
   "name": "python",
   "nbconvert_exporter": "python",
   "pygments_lexer": "ipython3",
   "version": "3.8.8"
  }
 },
 "nbformat": 4,
 "nbformat_minor": 4
}
