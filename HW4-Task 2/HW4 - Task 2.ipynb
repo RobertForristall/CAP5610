{
 "cells": [
  {
   "cell_type": "markdown",
   "id": "da0f8656",
   "metadata": {},
   "source": [
    "# CAP5610 HW4 Task 2\n",
    "## Robert Forristall"
   ]
  },
  {
   "cell_type": "code",
   "execution_count": 1,
   "id": "01c5e02b",
   "metadata": {
    "scrolled": false
   },
   "outputs": [],
   "source": [
    "import numpy as np\n",
    "import pandas as pd\n",
    "\n",
    "train_x = pd.read_csv('data.csv')\n",
    "train_y = pd.read_csv('label.csv')"
   ]
  },
  {
   "cell_type": "markdown",
   "id": "7cd8dfb0",
   "metadata": {},
   "source": [
    "# Data Visualization"
   ]
  },
  {
   "cell_type": "code",
   "execution_count": 2,
   "id": "c05c3d69",
   "metadata": {},
   "outputs": [
    {
     "data": {
      "text/html": [
       "<div>\n",
       "<style scoped>\n",
       "    .dataframe tbody tr th:only-of-type {\n",
       "        vertical-align: middle;\n",
       "    }\n",
       "\n",
       "    .dataframe tbody tr th {\n",
       "        vertical-align: top;\n",
       "    }\n",
       "\n",
       "    .dataframe thead th {\n",
       "        text-align: right;\n",
       "    }\n",
       "</style>\n",
       "<table border=\"1\" class=\"dataframe\">\n",
       "  <thead>\n",
       "    <tr style=\"text-align: right;\">\n",
       "      <th></th>\n",
       "      <th>0</th>\n",
       "      <th>0.1</th>\n",
       "      <th>0.2</th>\n",
       "      <th>0.3</th>\n",
       "      <th>0.4</th>\n",
       "      <th>0.5</th>\n",
       "      <th>0.6</th>\n",
       "      <th>0.7</th>\n",
       "      <th>0.8</th>\n",
       "      <th>0.9</th>\n",
       "      <th>...</th>\n",
       "      <th>0.658</th>\n",
       "      <th>0.659</th>\n",
       "      <th>0.660</th>\n",
       "      <th>0.661</th>\n",
       "      <th>0.662</th>\n",
       "      <th>0.663</th>\n",
       "      <th>0.664</th>\n",
       "      <th>0.665</th>\n",
       "      <th>0.666</th>\n",
       "      <th>0.667</th>\n",
       "    </tr>\n",
       "  </thead>\n",
       "  <tbody>\n",
       "    <tr>\n",
       "      <th>count</th>\n",
       "      <td>9999.0</td>\n",
       "      <td>9999.0</td>\n",
       "      <td>9999.0</td>\n",
       "      <td>9999.0</td>\n",
       "      <td>9999.0</td>\n",
       "      <td>9999.0</td>\n",
       "      <td>9999.0</td>\n",
       "      <td>9999.0</td>\n",
       "      <td>9999.0</td>\n",
       "      <td>9999.0</td>\n",
       "      <td>...</td>\n",
       "      <td>9999.000000</td>\n",
       "      <td>9999.000000</td>\n",
       "      <td>9999.000000</td>\n",
       "      <td>9999.000000</td>\n",
       "      <td>9999.0</td>\n",
       "      <td>9999.0</td>\n",
       "      <td>9999.0</td>\n",
       "      <td>9999.0</td>\n",
       "      <td>9999.0</td>\n",
       "      <td>9999.0</td>\n",
       "    </tr>\n",
       "    <tr>\n",
       "      <th>mean</th>\n",
       "      <td>0.0</td>\n",
       "      <td>0.0</td>\n",
       "      <td>0.0</td>\n",
       "      <td>0.0</td>\n",
       "      <td>0.0</td>\n",
       "      <td>0.0</td>\n",
       "      <td>0.0</td>\n",
       "      <td>0.0</td>\n",
       "      <td>0.0</td>\n",
       "      <td>0.0</td>\n",
       "      <td>...</td>\n",
       "      <td>0.179318</td>\n",
       "      <td>0.163616</td>\n",
       "      <td>0.052605</td>\n",
       "      <td>0.000600</td>\n",
       "      <td>0.0</td>\n",
       "      <td>0.0</td>\n",
       "      <td>0.0</td>\n",
       "      <td>0.0</td>\n",
       "      <td>0.0</td>\n",
       "      <td>0.0</td>\n",
       "    </tr>\n",
       "    <tr>\n",
       "      <th>std</th>\n",
       "      <td>0.0</td>\n",
       "      <td>0.0</td>\n",
       "      <td>0.0</td>\n",
       "      <td>0.0</td>\n",
       "      <td>0.0</td>\n",
       "      <td>0.0</td>\n",
       "      <td>0.0</td>\n",
       "      <td>0.0</td>\n",
       "      <td>0.0</td>\n",
       "      <td>0.0</td>\n",
       "      <td>...</td>\n",
       "      <td>5.674433</td>\n",
       "      <td>5.736359</td>\n",
       "      <td>2.420125</td>\n",
       "      <td>0.060003</td>\n",
       "      <td>0.0</td>\n",
       "      <td>0.0</td>\n",
       "      <td>0.0</td>\n",
       "      <td>0.0</td>\n",
       "      <td>0.0</td>\n",
       "      <td>0.0</td>\n",
       "    </tr>\n",
       "    <tr>\n",
       "      <th>min</th>\n",
       "      <td>0.0</td>\n",
       "      <td>0.0</td>\n",
       "      <td>0.0</td>\n",
       "      <td>0.0</td>\n",
       "      <td>0.0</td>\n",
       "      <td>0.0</td>\n",
       "      <td>0.0</td>\n",
       "      <td>0.0</td>\n",
       "      <td>0.0</td>\n",
       "      <td>0.0</td>\n",
       "      <td>...</td>\n",
       "      <td>0.000000</td>\n",
       "      <td>0.000000</td>\n",
       "      <td>0.000000</td>\n",
       "      <td>0.000000</td>\n",
       "      <td>0.0</td>\n",
       "      <td>0.0</td>\n",
       "      <td>0.0</td>\n",
       "      <td>0.0</td>\n",
       "      <td>0.0</td>\n",
       "      <td>0.0</td>\n",
       "    </tr>\n",
       "    <tr>\n",
       "      <th>25%</th>\n",
       "      <td>0.0</td>\n",
       "      <td>0.0</td>\n",
       "      <td>0.0</td>\n",
       "      <td>0.0</td>\n",
       "      <td>0.0</td>\n",
       "      <td>0.0</td>\n",
       "      <td>0.0</td>\n",
       "      <td>0.0</td>\n",
       "      <td>0.0</td>\n",
       "      <td>0.0</td>\n",
       "      <td>...</td>\n",
       "      <td>0.000000</td>\n",
       "      <td>0.000000</td>\n",
       "      <td>0.000000</td>\n",
       "      <td>0.000000</td>\n",
       "      <td>0.0</td>\n",
       "      <td>0.0</td>\n",
       "      <td>0.0</td>\n",
       "      <td>0.0</td>\n",
       "      <td>0.0</td>\n",
       "      <td>0.0</td>\n",
       "    </tr>\n",
       "    <tr>\n",
       "      <th>50%</th>\n",
       "      <td>0.0</td>\n",
       "      <td>0.0</td>\n",
       "      <td>0.0</td>\n",
       "      <td>0.0</td>\n",
       "      <td>0.0</td>\n",
       "      <td>0.0</td>\n",
       "      <td>0.0</td>\n",
       "      <td>0.0</td>\n",
       "      <td>0.0</td>\n",
       "      <td>0.0</td>\n",
       "      <td>...</td>\n",
       "      <td>0.000000</td>\n",
       "      <td>0.000000</td>\n",
       "      <td>0.000000</td>\n",
       "      <td>0.000000</td>\n",
       "      <td>0.0</td>\n",
       "      <td>0.0</td>\n",
       "      <td>0.0</td>\n",
       "      <td>0.0</td>\n",
       "      <td>0.0</td>\n",
       "      <td>0.0</td>\n",
       "    </tr>\n",
       "    <tr>\n",
       "      <th>75%</th>\n",
       "      <td>0.0</td>\n",
       "      <td>0.0</td>\n",
       "      <td>0.0</td>\n",
       "      <td>0.0</td>\n",
       "      <td>0.0</td>\n",
       "      <td>0.0</td>\n",
       "      <td>0.0</td>\n",
       "      <td>0.0</td>\n",
       "      <td>0.0</td>\n",
       "      <td>0.0</td>\n",
       "      <td>...</td>\n",
       "      <td>0.000000</td>\n",
       "      <td>0.000000</td>\n",
       "      <td>0.000000</td>\n",
       "      <td>0.000000</td>\n",
       "      <td>0.0</td>\n",
       "      <td>0.0</td>\n",
       "      <td>0.0</td>\n",
       "      <td>0.0</td>\n",
       "      <td>0.0</td>\n",
       "      <td>0.0</td>\n",
       "    </tr>\n",
       "    <tr>\n",
       "      <th>max</th>\n",
       "      <td>0.0</td>\n",
       "      <td>0.0</td>\n",
       "      <td>0.0</td>\n",
       "      <td>0.0</td>\n",
       "      <td>0.0</td>\n",
       "      <td>0.0</td>\n",
       "      <td>0.0</td>\n",
       "      <td>0.0</td>\n",
       "      <td>0.0</td>\n",
       "      <td>0.0</td>\n",
       "      <td>...</td>\n",
       "      <td>253.000000</td>\n",
       "      <td>253.000000</td>\n",
       "      <td>156.000000</td>\n",
       "      <td>6.000000</td>\n",
       "      <td>0.0</td>\n",
       "      <td>0.0</td>\n",
       "      <td>0.0</td>\n",
       "      <td>0.0</td>\n",
       "      <td>0.0</td>\n",
       "      <td>0.0</td>\n",
       "    </tr>\n",
       "  </tbody>\n",
       "</table>\n",
       "<p>8 rows × 784 columns</p>\n",
       "</div>"
      ],
      "text/plain": [
       "            0     0.1     0.2     0.3     0.4     0.5     0.6     0.7     0.8  \\\n",
       "count  9999.0  9999.0  9999.0  9999.0  9999.0  9999.0  9999.0  9999.0  9999.0   \n",
       "mean      0.0     0.0     0.0     0.0     0.0     0.0     0.0     0.0     0.0   \n",
       "std       0.0     0.0     0.0     0.0     0.0     0.0     0.0     0.0     0.0   \n",
       "min       0.0     0.0     0.0     0.0     0.0     0.0     0.0     0.0     0.0   \n",
       "25%       0.0     0.0     0.0     0.0     0.0     0.0     0.0     0.0     0.0   \n",
       "50%       0.0     0.0     0.0     0.0     0.0     0.0     0.0     0.0     0.0   \n",
       "75%       0.0     0.0     0.0     0.0     0.0     0.0     0.0     0.0     0.0   \n",
       "max       0.0     0.0     0.0     0.0     0.0     0.0     0.0     0.0     0.0   \n",
       "\n",
       "          0.9  ...        0.658        0.659        0.660        0.661  \\\n",
       "count  9999.0  ...  9999.000000  9999.000000  9999.000000  9999.000000   \n",
       "mean      0.0  ...     0.179318     0.163616     0.052605     0.000600   \n",
       "std       0.0  ...     5.674433     5.736359     2.420125     0.060003   \n",
       "min       0.0  ...     0.000000     0.000000     0.000000     0.000000   \n",
       "25%       0.0  ...     0.000000     0.000000     0.000000     0.000000   \n",
       "50%       0.0  ...     0.000000     0.000000     0.000000     0.000000   \n",
       "75%       0.0  ...     0.000000     0.000000     0.000000     0.000000   \n",
       "max       0.0  ...   253.000000   253.000000   156.000000     6.000000   \n",
       "\n",
       "        0.662   0.663   0.664   0.665   0.666   0.667  \n",
       "count  9999.0  9999.0  9999.0  9999.0  9999.0  9999.0  \n",
       "mean      0.0     0.0     0.0     0.0     0.0     0.0  \n",
       "std       0.0     0.0     0.0     0.0     0.0     0.0  \n",
       "min       0.0     0.0     0.0     0.0     0.0     0.0  \n",
       "25%       0.0     0.0     0.0     0.0     0.0     0.0  \n",
       "50%       0.0     0.0     0.0     0.0     0.0     0.0  \n",
       "75%       0.0     0.0     0.0     0.0     0.0     0.0  \n",
       "max       0.0     0.0     0.0     0.0     0.0     0.0  \n",
       "\n",
       "[8 rows x 784 columns]"
      ]
     },
     "execution_count": 2,
     "metadata": {},
     "output_type": "execute_result"
    }
   ],
   "source": [
    "train_x.describe()"
   ]
  },
  {
   "cell_type": "code",
   "execution_count": 3,
   "id": "72a7733a",
   "metadata": {},
   "outputs": [
    {
     "name": "stdout",
     "output_type": "stream",
     "text": [
      "<class 'pandas.core.frame.DataFrame'>\n",
      "RangeIndex: 9999 entries, 0 to 9998\n",
      "Columns: 784 entries, 0 to 0.667\n",
      "dtypes: int64(784)\n",
      "memory usage: 59.8 MB\n",
      "None\n"
     ]
    }
   ],
   "source": [
    "print(train_x.info())"
   ]
  },
  {
   "cell_type": "code",
   "execution_count": 4,
   "id": "f39d6338",
   "metadata": {},
   "outputs": [
    {
     "name": "stdout",
     "output_type": "stream",
     "text": [
      "   0  0.1  0.2  0.3  0.4  0.5  0.6  0.7  0.8  0.9  ...  0.658  0.659  0.660  \\\n",
      "0  0    0    0    0    0    0    0    0    0    0  ...      0      0      0   \n",
      "1  0    0    0    0    0    0    0    0    0    0  ...      0      0      0   \n",
      "2  0    0    0    0    0    0    0    0    0    0  ...      0      0      0   \n",
      "3  0    0    0    0    0    0    0    0    0    0  ...      0      0      0   \n",
      "4  0    0    0    0    0    0    0    0    0    0  ...      0      0      0   \n",
      "\n",
      "   0.661  0.662  0.663  0.664  0.665  0.666  0.667  \n",
      "0      0      0      0      0      0      0      0  \n",
      "1      0      0      0      0      0      0      0  \n",
      "2      0      0      0      0      0      0      0  \n",
      "3      0      0      0      0      0      0      0  \n",
      "4      0      0      0      0      0      0      0  \n",
      "\n",
      "[5 rows x 784 columns]\n"
     ]
    }
   ],
   "source": [
    "print(train_x.head())"
   ]
  },
  {
   "cell_type": "code",
   "execution_count": 5,
   "id": "f8253d4a",
   "metadata": {},
   "outputs": [
    {
     "data": {
      "text/html": [
       "<div>\n",
       "<style scoped>\n",
       "    .dataframe tbody tr th:only-of-type {\n",
       "        vertical-align: middle;\n",
       "    }\n",
       "\n",
       "    .dataframe tbody tr th {\n",
       "        vertical-align: top;\n",
       "    }\n",
       "\n",
       "    .dataframe thead th {\n",
       "        text-align: right;\n",
       "    }\n",
       "</style>\n",
       "<table border=\"1\" class=\"dataframe\">\n",
       "  <thead>\n",
       "    <tr style=\"text-align: right;\">\n",
       "      <th></th>\n",
       "      <th>7</th>\n",
       "    </tr>\n",
       "  </thead>\n",
       "  <tbody>\n",
       "    <tr>\n",
       "      <th>count</th>\n",
       "      <td>9999.000000</td>\n",
       "    </tr>\n",
       "    <tr>\n",
       "      <th>mean</th>\n",
       "      <td>4.443144</td>\n",
       "    </tr>\n",
       "    <tr>\n",
       "      <th>std</th>\n",
       "      <td>2.895897</td>\n",
       "    </tr>\n",
       "    <tr>\n",
       "      <th>min</th>\n",
       "      <td>0.000000</td>\n",
       "    </tr>\n",
       "    <tr>\n",
       "      <th>25%</th>\n",
       "      <td>2.000000</td>\n",
       "    </tr>\n",
       "    <tr>\n",
       "      <th>50%</th>\n",
       "      <td>4.000000</td>\n",
       "    </tr>\n",
       "    <tr>\n",
       "      <th>75%</th>\n",
       "      <td>7.000000</td>\n",
       "    </tr>\n",
       "    <tr>\n",
       "      <th>max</th>\n",
       "      <td>9.000000</td>\n",
       "    </tr>\n",
       "  </tbody>\n",
       "</table>\n",
       "</div>"
      ],
      "text/plain": [
       "                 7\n",
       "count  9999.000000\n",
       "mean      4.443144\n",
       "std       2.895897\n",
       "min       0.000000\n",
       "25%       2.000000\n",
       "50%       4.000000\n",
       "75%       7.000000\n",
       "max       9.000000"
      ]
     },
     "execution_count": 5,
     "metadata": {},
     "output_type": "execute_result"
    }
   ],
   "source": [
    "train_y.describe()"
   ]
  },
  {
   "cell_type": "code",
   "execution_count": 6,
   "id": "e481ab97",
   "metadata": {},
   "outputs": [
    {
     "name": "stdout",
     "output_type": "stream",
     "text": [
      "<class 'pandas.core.frame.DataFrame'>\n",
      "RangeIndex: 9999 entries, 0 to 9998\n",
      "Data columns (total 1 columns):\n",
      " #   Column  Non-Null Count  Dtype\n",
      "---  ------  --------------  -----\n",
      " 0   7       9999 non-null   int64\n",
      "dtypes: int64(1)\n",
      "memory usage: 78.2 KB\n",
      "None\n"
     ]
    }
   ],
   "source": [
    "print(train_y.info())"
   ]
  },
  {
   "cell_type": "code",
   "execution_count": 7,
   "id": "2c9a0647",
   "metadata": {},
   "outputs": [
    {
     "name": "stdout",
     "output_type": "stream",
     "text": [
      "   7\n",
      "0  2\n",
      "1  1\n",
      "2  0\n",
      "3  4\n",
      "4  1\n"
     ]
    }
   ],
   "source": [
    "print(train_y.head())"
   ]
  },
  {
   "cell_type": "markdown",
   "id": "178cbd92",
   "metadata": {},
   "source": [
    "# Q1\n",
    "## Setup Distance Functions"
   ]
  },
  {
   "cell_type": "code",
   "execution_count": 8,
   "id": "ea060625",
   "metadata": {},
   "outputs": [],
   "source": [
    "def EuclideanDistance (previous_centroids, data):\n",
    "    distance = np.zeros((len(previous_centroids),len(data)))\n",
    "    for i in range(len(previous_centroids)):\n",
    "        temp = []\n",
    "        for point in data:\n",
    "            temp.append(np.sqrt(np.sum(np.square(point-previous_centroids[i]))))\n",
    "        distance[i] = temp\n",
    "    return distance\n",
    "def CosineDistance (previous_centroids, data):\n",
    "    distance = np.zeros((len(previous_centroids),len(data)))\n",
    "    for i in range(len(previous_centroids)):\n",
    "        temp = []\n",
    "        for point in data:\n",
    "            # temp.append(1-(np.dot(previous_centroids[i], point)/(np.sqrt(np.sum(np.square(previous_centroids[i])))*np.sqrt(np.sum(np.square(point))))))\n",
    "            temp.append(1 - (np.dot(previous_centroids[i],point)/(np.linalg.norm(previous_centroids[i])*np.linalg.norm(point))))\n",
    "        distance[i] = temp\n",
    "    return distance\n",
    "def JarcardDistance (previous_centroids, data):\n",
    "    distance = np.zeros((len(previous_centroids),len(data)))\n",
    "    for i in range(len(previous_centroids)):\n",
    "        temp = []\n",
    "        for point in data:\n",
    "            # min_arr = [min(x,y) for x,y in zip(previous_centroids[i], point)]\n",
    "            # max_arr = [max(x,y) for x,y in zip(previous_centroids[i], point)]\n",
    "            min_arr = np.minimum(previous_centroids[i], point)\n",
    "            max_arr = np.maximum(previous_centroids[i], point)\n",
    "            temp.append(1-(np.sum(min_arr)/np.sum(max_arr)))\n",
    "        distance[i] = temp\n",
    "    return distance"
   ]
  },
  {
   "cell_type": "markdown",
   "id": "60a556bd",
   "metadata": {},
   "source": [
    "## Setup KMeans Function"
   ]
  },
  {
   "cell_type": "code",
   "execution_count": 9,
   "id": "46f05e0f",
   "metadata": {},
   "outputs": [],
   "source": [
    "np.random.seed(123)\n",
    "\n",
    "def ShouldStop(iteration, centroids, old_centroids):\n",
    "    if np.array_equal(old_centroids, centroids) or iteration == 100:\n",
    "        return False\n",
    "    return True\n",
    "\n",
    "def getLabels (distance, centroids, data):\n",
    "    labels = np.array([])\n",
    "    for i in range(len(data)):\n",
    "        index = np.where(distance == np.min(distance[:,i]))\n",
    "        labels = np.append(labels, index[0][0])\n",
    "    return labels\n",
    "\n",
    "def CalculateCentroids (data, labels, previous_centroids, k, num_of_features):\n",
    "    new_centroids = np.zeros((k, num_of_features))\n",
    "    counts = [0]*k\n",
    "    for i in range(len(data)):\n",
    "        counts[labels[i]] += 1\n",
    "        new_centroids[labels[i]] += data[i]\n",
    "    for i in range(k):\n",
    "        if counts[i] != 0:\n",
    "            new_centroids[i] = new_centroids[i]/counts[i]\n",
    "        else:\n",
    "            new_centroids[i] = previous_centroids[i]\n",
    "    return new_centroids\n",
    "\n",
    "def KMeans (data, k_centroids, distance_method, stop_version, flag):\n",
    "    \n",
    "    num_of_features = len(data[0])\n",
    "    current_centroids = np.zeros((k_centroids, num_of_features))\n",
    "    for i in range(k_centroids):\n",
    "        r = np.random.randint(0, num_of_features+1)\n",
    "        current_centroids[i, :] = data[r]\n",
    "    \n",
    "    current_iteration = 0\n",
    "    previous_centroids = np.zeros((k_centroids, num_of_features))\n",
    "    labels = None\n",
    "    old_sse = np.Inf\n",
    "    sse = np.Inf\n",
    "    \n",
    "    if (stop_version == 1):\n",
    "        while ShouldStop(current_iteration, current_centroids, previous_centroids):\n",
    "            previous_centroids = current_centroids\n",
    "            current_iteration += 1\n",
    "            if (distance_method == 'euclidean'):\n",
    "                distance = EuclideanDistance(previous_centroids, data)\n",
    "            elif (distance_method == 'cosine'):\n",
    "                distance = CosineDistance(previous_centroids, data)\n",
    "            elif (distance_method == 'jarcard'):\n",
    "                distance = JarcardDistance(previous_centroids, data)\n",
    "            else:\n",
    "                print('Invalid distacne metric: Please use eulidean, cosine, or jarcard')\n",
    "                return\n",
    "            labels = getLabels(distance, previous_centroids, data)\n",
    "            current_centroids = CalculateCentroids(data, labels.astype(int), previous_centroids, k_centroids, num_of_features)\n",
    "    elif (stop_version == 2):\n",
    "        while ShouldStopV2(current_iteration, current_centroids, previous_centroids, old_sse, sse):\n",
    "            old_sse = sse\n",
    "            previous_centroids = current_centroids\n",
    "            current_iteration += 1\n",
    "            if (distance_method == 'euclidean'):\n",
    "                distance = EuclideanDistance(previous_centroids, data)\n",
    "            elif (distance_method == 'cosine'):\n",
    "                distance = CosineDistance(previous_centroids, data)\n",
    "            elif (distance_method == 'jarcard'):\n",
    "                distance = JarcardDistance(previous_centroids, data)\n",
    "            else:\n",
    "                print('Invalid distacne metric: Please use eulidean, cosine, or jarcard')\n",
    "                return\n",
    "            labels = getLabels(distance, previous_centroids, data)\n",
    "            current_centroids = CalculateCentroids(data, labels.astype(int), previous_centroids, k_centroids, num_of_features)\n",
    "            sse = SSE(current_centroids, labels.astype(int), data)\n",
    "    else:\n",
    "        while ShouldStopV3(current_iteration, current_centroids, previous_centroids, old_sse, sse, flag):\n",
    "            old_sse = sse\n",
    "            previous_centroids = current_centroids\n",
    "            current_iteration += 1\n",
    "            if (distance_method == 'euclidean'):\n",
    "                distance = EuclideanDistance(previous_centroids, data)\n",
    "            elif (distance_method == 'cosine'):\n",
    "                distance = CosineDistance(previous_centroids, data)\n",
    "            elif (distance_method == 'jarcard'):\n",
    "                distance = JarcardDistance(previous_centroids, data)\n",
    "            else:\n",
    "                print('Invalid distacne metric: Please use eulidean, cosine, or jarcard')\n",
    "                return\n",
    "            labels = getLabels(distance, previous_centroids, data)\n",
    "            current_centroids = CalculateCentroids(data, labels.astype(int), previous_centroids, k_centroids, num_of_features)\n",
    "            sse = SSE(current_centroids, labels.astype(int), data)\n",
    "    print(distance_method, ' ', 'total interations: ', current_iteration)\n",
    "    return current_centroids, labels\n",
    "        \n",
    "            \n"
   ]
  },
  {
   "cell_type": "markdown",
   "id": "24aa4a8e",
   "metadata": {},
   "source": [
    "## Run KMeans Functions"
   ]
  },
  {
   "cell_type": "code",
   "execution_count": 10,
   "id": "ed17c75f",
   "metadata": {
    "tags": []
   },
   "outputs": [
    {
     "name": "stdout",
     "output_type": "stream",
     "text": [
      "euclidean   total interations:  71\n",
      "cosine   total interations:  85\n",
      "jarcard   total interations:  45\n"
     ]
    }
   ],
   "source": [
    "# Euclidean Distance\n",
    "euclidean_centroids, euclidean_labels = KMeans(train_x.to_numpy(), 10, 'euclidean', 1, 1)\n",
    "\n",
    "# Cosine Distance\n",
    "cosine_centroids, cosine_labels = KMeans(train_x.to_numpy(), 10, 'cosine', 1, 1)\n",
    "\n",
    "# Jarcard Distance\n",
    "jarcard_centroids, jarcard_labels = KMeans(train_x.to_numpy(), 10, 'jarcard', 1, 1)"
   ]
  },
  {
   "cell_type": "markdown",
   "id": "5ffb46da",
   "metadata": {},
   "source": [
    "## Check SSE for each distance model"
   ]
  },
  {
   "cell_type": "code",
   "execution_count": 11,
   "id": "aa12cacf",
   "metadata": {
    "scrolled": true
   },
   "outputs": [
    {
     "name": "stdout",
     "output_type": "stream",
     "text": [
      "Euclidean SSE:  25318301268.749744\n",
      "Cosine SSE:  25411581642.345028\n",
      "Jarcard SSE:  25483177207.831245\n"
     ]
    }
   ],
   "source": [
    "def SSE (centroids, labels, data):\n",
    "    rv = 0\n",
    "    for i in range(len(data)):\n",
    "        index = labels[i]\n",
    "        rv += np.sum(np.square(data[i]-centroids[index]))\n",
    "    return rv\n",
    "euclidean_sse = SSE (euclidean_centroids, euclidean_labels.astype(int), train_x.to_numpy())\n",
    "cosine_sse = SSE (cosine_centroids, cosine_labels.astype(int), train_x.to_numpy())\n",
    "jarcard_sse = SSE (jarcard_centroids, jarcard_labels.astype(int), train_x.to_numpy())\n",
    "\n",
    "print('Euclidean SSE: ', euclidean_sse)\n",
    "print('Cosine SSE: ', cosine_sse)\n",
    "print('Jarcard SSE: ', jarcard_sse)\n",
    "        "
   ]
  },
  {
   "cell_type": "markdown",
   "id": "103bbb45",
   "metadata": {},
   "source": [
    "## Evaluating the SSE values\n",
    "\n",
    "Based on the following SSE values obtained during testing:\n",
    "- Euclidean SSE:  25318301268.749744\n",
    "- Cosine SSE:  25411581642.345028\n",
    "- Jarcard SSE:  25483177207.831245\n",
    "\n",
    "It would seem that the Euclidean method has the least error since it had the lowest SSE score."
   ]
  },
  {
   "cell_type": "markdown",
   "id": "3037f5ed",
   "metadata": {},
   "source": [
    "# Q2\n",
    "## Comparing the accuracies"
   ]
  },
  {
   "cell_type": "code",
   "execution_count": 12,
   "id": "34641077",
   "metadata": {},
   "outputs": [
    {
     "name": "stdout",
     "output_type": "stream",
     "text": [
      "Euclidean Accuracy:  0.5942594259425943\n",
      "Cosine Accuracy:  0.6140614061406141\n",
      "Jarcard Accuracy:  0.6233623362336234\n"
     ]
    }
   ],
   "source": [
    "def AccuracyCheck (centroids, centroid_labels, true_labels):\n",
    "    hashmap = {}\n",
    "    rv = 0\n",
    "    for i in range(len(centroid_labels)):\n",
    "        if centroid_labels[i] in hashmap:\n",
    "            hashmap[centroid_labels[i]] = np.append(hashmap[centroid_labels[i]], true_labels['7'][i])\n",
    "        else: \n",
    "            hashmap[centroid_labels[i]] = np.array([true_labels['7'][i]])\n",
    "    for i in range(len(centroids)):\n",
    "        if i in hashmap:\n",
    "            vote = np.bincount(hashmap[i]).argmax()\n",
    "            rv += np.count_nonzero(hashmap[i] == vote)\n",
    "    return rv/len(true_labels)\n",
    "\n",
    "euclidean_acc = AccuracyCheck(euclidean_centroids, euclidean_labels, train_y)\n",
    "cosine_acc = AccuracyCheck(cosine_centroids, cosine_labels, train_y)\n",
    "jarcard_acc = AccuracyCheck(jarcard_centroids, jarcard_labels, train_y)\n",
    "\n",
    "print ('Euclidean Accuracy: ', euclidean_acc)\n",
    "print('Cosine Accuracy: ', cosine_acc)\n",
    "print('Jarcard Accuracy: ', jarcard_acc)"
   ]
  },
  {
   "cell_type": "markdown",
   "id": "2fc2d40b",
   "metadata": {},
   "source": [
    "## Analyzing accuracies\n",
    "\n",
    "Based on the following accuracy scores obtained through testing:\n",
    "- Euclidean Accuracy:  0.5942594259425943\n",
    "- Cosine Accuracy:  0.6140614061406141\n",
    "- Jarcard Accuracy:  0.6233623362336234\n",
    "\n",
    "It would seem that the Jarcard is the most accurate model based on the results of testing"
   ]
  },
  {
   "cell_type": "markdown",
   "id": "aeb9e1a7",
   "metadata": {},
   "source": [
    "# Q3\n",
    "## Modifiying stop criteria to include SSE"
   ]
  },
  {
   "cell_type": "code",
   "execution_count": 13,
   "id": "e6823581",
   "metadata": {},
   "outputs": [
    {
     "name": "stdout",
     "output_type": "stream",
     "text": [
      "euclidean   total interations:  93\n",
      "cosine   total interations:  27\n",
      "jarcard   total interations:  38\n",
      "done\n"
     ]
    }
   ],
   "source": [
    "def ShouldStopV2 (iteration, centroids, old_centroids, old_sse, sse):\n",
    "    if (iteration != 0):\n",
    "        if np.array_equal(old_centroids, centroids) or iteration == 100 or sse >= old_sse:\n",
    "            return False\n",
    "    return True\n",
    "\n",
    "# Euclidean Distance\n",
    "euclidean_centroids, euclidean_labels = KMeans(train_x.to_numpy(), 10, 'euclidean', 2, 1)\n",
    "\n",
    "# Cosine Distance\n",
    "cosine_centroids, cosine_labels = KMeans(train_x.to_numpy(), 10, 'cosine', 2, 1)\n",
    "\n",
    "# Jarcard Distance\n",
    "jarcard_centroids, jarcard_labels = KMeans(train_x.to_numpy(), 10, 'jarcard', 2, 1)\n",
    "\n",
    "print('done')\n"
   ]
  },
  {
   "cell_type": "markdown",
   "id": "326cfbdc",
   "metadata": {},
   "source": [
    "## Comparing iterations/times of models with modified stop criteria\n",
    "Based on the results obtained during testing:\n",
    "- Iterations till convergence:\n",
    "    - Euclidean: 93\n",
    "    - Cosine: 27\n",
    "    - Jarcard: 38\n",
    "- Times: Each function runs around the same amount of time per iteration so the shortest time was Cosine followed by Jarcard and lastly the slowest was euclidean due to the massive number of iterations this attempt took to converge"
   ]
  },
  {
   "cell_type": "markdown",
   "id": "f8a9e1f5",
   "metadata": {},
   "source": [
    "# Q4\n",
    "## Modify stop conditions to consider only one terminating condition"
   ]
  },
  {
   "cell_type": "code",
   "execution_count": 14,
   "id": "669f9d8c",
   "metadata": {},
   "outputs": [
    {
     "name": "stdout",
     "output_type": "stream",
     "text": [
      "euclidean   total interations:  38\n",
      "euclidean   total interations:  36\n",
      "euclidean   total interations:  100\n",
      "cosine   total interations:  59\n",
      "cosine   total interations:  53\n",
      "cosine   total interations:  100\n",
      "jarcard   total interations:  60\n",
      "jarcard   total interations:  47\n",
      "jarcard   total interations:  100\n"
     ]
    }
   ],
   "source": [
    "def ShouldStopV3 (iteration, centroids, old_centroids, old_sse, sse, flag):\n",
    "    if (iteration != 0):\n",
    "        if (flag == 1):\n",
    "            if np.array_equal(old_centroids, centroids):\n",
    "                return False\n",
    "        elif (flag == 2):\n",
    "            if (sse >= old_sse):\n",
    "                return False\n",
    "        elif (flag == 3):\n",
    "            if (iteration == 100):\n",
    "                return False\n",
    "    return True\n",
    "\n",
    "# Euclidean Distance, includes what condition was used to stop\n",
    "euclidean_centroids_position, euclidean_labels_position = KMeans(train_x.to_numpy(), 10, 'euclidean', 3, 1)\n",
    "euclidean_centroids_sse, euclidean_labels_sse = KMeans(train_x.to_numpy(), 10, 'euclidean', 3, 2)\n",
    "euclidean_centroids_iteration, euclidean_labels_iteration = KMeans(train_x.to_numpy(), 10, 'euclidean', 3, 3)\n",
    "\n",
    "# Cosine Distance, includes what condition was used to stop\n",
    "cosine_centroids_position, cosine_labels_position = KMeans(train_x.to_numpy(), 10, 'cosine', 3, 1)\n",
    "cosine_centroids_sse, cosine_labels_sse = KMeans(train_x.to_numpy(), 10, 'cosine', 3, 2)\n",
    "cosine_centroids_iteration, cosine_labels_iteration = KMeans(train_x.to_numpy(), 10, 'cosine', 3, 3)\n",
    "\n",
    "# Jarcard Distance, includes what condition was used to stop\n",
    "jarcard_centroids_position, jarcard_labels_position = KMeans(train_x.to_numpy(), 10, 'jarcard', 3, 1)\n",
    "jarcard_centroids_sse, jarcard_labels_sse = KMeans(train_x.to_numpy(), 10, 'jarcard', 3, 2)\n",
    "jarcard_centroids_iteration, jarcard_labels_iteration = KMeans(train_x.to_numpy(), 10, 'jarcard', 3, 3)\n"
   ]
  },
  {
   "cell_type": "markdown",
   "id": "cabd2a78",
   "metadata": {},
   "source": [
    "## Calculate SSE for each model"
   ]
  },
  {
   "cell_type": "code",
   "execution_count": 15,
   "id": "4d905890",
   "metadata": {
    "scrolled": true
   },
   "outputs": [
    {
     "name": "stdout",
     "output_type": "stream",
     "text": [
      "Euclidean SSEs wrt stop criteria: \n",
      "Centroids converge:  25321994318.21326\n",
      "New SSE is larger than previous SSE:  25495249192.75157\n",
      "Reached max number of iterations (100):  25404775206.395275\n",
      "Cosine SSEs wrt stop criteria: \n",
      "Centroids converge:  25468173815.67823\n",
      "New SSE is larger than previous SSE:  25425454489.886997\n",
      "Reached max number of iterations (100):  25416733862.67944\n",
      "Jarcard SSEs wrt stop criteria: \n",
      "Centroids converge:  25415230917.736603\n",
      "New SSE is larger than previous SSE:  25434179158.75361\n",
      "Reached max number of iterations (100):  25587905239.143787\n"
     ]
    }
   ],
   "source": [
    "# Euclidean distance model SSEs\n",
    "euclidean_sse_position = SSE (euclidean_centroids_position, euclidean_labels_position.astype(int), train_x.to_numpy())\n",
    "euclidean_sse_sse = SSE (euclidean_centroids_sse, euclidean_labels_sse.astype(int), train_x.to_numpy())\n",
    "euclidean_sse_iteration = SSE (euclidean_centroids_iteration, euclidean_labels_iteration.astype(int), train_x.to_numpy())\n",
    "\n",
    "# Cosine distance model SSEs\n",
    "cosine_sse_position = SSE (cosine_centroids_position, cosine_labels_position.astype(int), train_x.to_numpy())\n",
    "cosine_sse_sse = SSE (cosine_centroids_sse, cosine_labels_sse.astype(int), train_x.to_numpy())\n",
    "cosine_sse_iteration = SSE (cosine_centroids_iteration, cosine_labels_iteration.astype(int), train_x.to_numpy())\n",
    "\n",
    "# Jarcard distance model SSEs\n",
    "jarcard_sse_position = SSE (jarcard_centroids_position, jarcard_labels_position.astype(int), train_x.to_numpy())\n",
    "jarcard_sse_sse = SSE (jarcard_centroids_sse, jarcard_labels_sse.astype(int), train_x.to_numpy())\n",
    "jarcard_sse_iteration = SSE (jarcard_centroids_iteration, jarcard_labels_iteration.astype(int), train_x.to_numpy())\n",
    "\n",
    "print('Euclidean SSEs wrt stop criteria: ')\n",
    "print ('Centroids converge: ', euclidean_sse_position)\n",
    "print('New SSE is larger than previous SSE: ', euclidean_sse_sse)\n",
    "print('Reached max number of iterations (100): ', euclidean_sse_iteration)\n",
    "\n",
    "print('Cosine SSEs wrt stop criteria: ')\n",
    "print ('Centroids converge: ', cosine_sse_position)\n",
    "print('New SSE is larger than previous SSE: ', cosine_sse_sse)\n",
    "print('Reached max number of iterations (100): ', cosine_sse_iteration)\n",
    "\n",
    "print('Jarcard SSEs wrt stop criteria: ')\n",
    "print ('Centroids converge: ', jarcard_sse_position)\n",
    "print('New SSE is larger than previous SSE: ', jarcard_sse_sse)\n",
    "print('Reached max number of iterations (100): ', jarcard_sse_iteration)"
   ]
  },
  {
   "cell_type": "markdown",
   "id": "0075c966",
   "metadata": {},
   "source": [
    "# Compare SSE wrt stop conditions\n",
    "\n",
    "Based on the results obtained during testing:\n",
    "- Euclidean SSEs wrt stop criteria: \n",
    "    - Centroids converge:  25429959337.949955\n",
    "    - New SSE is larger than previous SSE:  25407016682.77918\n",
    "    - Reached max number of iterations (100):  25321974749.58356\n",
    "- Cosine SSEs wrt stop criteria: \n",
    "    - Centroids converge:  25555029379.927616\n",
    "    - New SSE is larger than previous SSE:  25610084771.580967\n",
    "    - Reached max number of iterations (100):  25561511207.494164\n",
    "- Jarcard SSEs wrt stop criteria: \n",
    "    - Centroids converge:  25414464925.44861\n",
    "    - New SSE is larger than previous SSE:  25446594079.129356\n",
    "    - Reached max number of iterations (100):  25451185367.17009\n",
    "    \n",
    "The best models determined by SSE wrt to the different stop conditions:\n",
    "- Centroids converge: Jarcard\n",
    "- New SSE is larger than previous SSE: Euclidean\n",
    "- Reached max number of iterations (100): Euclidean\n",
    "\n",
    "Thus the best overall KMeans model as found from this analysis is Euclidean"
   ]
  },
  {
   "cell_type": "markdown",
   "id": "04a8abb9",
   "metadata": {},
   "source": [
    "# Q5\n",
    "## Concluding observations and algorithm analysis\n",
    "\n",
    "In conclusion to this algorithmic analysis it would seem that overall the most consistent and reliable distance metric for the KMeans model is difficult to determine. Each of these metrics had tests that they appeared to be the best at; euclidean distance did the best in regard to the SSE metric both overall and with respect to the majority of the stop conditions, meanwhile jarcard had the best accuracy score when compared to the label set while euclidean had the lowest accuracy score. The cosine distance metric seems to be a sort of compensation between the two with an overall SSE better than jarcard but worse than euclidean and accuracy being better than euclidean but worse than jarcard.\n",
    "\n",
    "In the future other distance metrics such as manhattan distance will have to be tested on the data set to see if any better performance can be obtained. Other methods than the one used here for determining the initial clusters will likely also help improve the performance of this model since initial centroids could be selected in strategic positions rather than just using a random point in the data set."
   ]
  },
  {
   "cell_type": "code",
   "execution_count": null,
   "id": "664ce527",
   "metadata": {},
   "outputs": [],
   "source": []
  }
 ],
 "metadata": {
  "kernelspec": {
   "display_name": "Python 3 (ipykernel)",
   "language": "python",
   "name": "python3"
  },
  "language_info": {
   "codemirror_mode": {
    "name": "ipython",
    "version": 3
   },
   "file_extension": ".py",
   "mimetype": "text/x-python",
   "name": "python",
   "nbconvert_exporter": "python",
   "pygments_lexer": "ipython3",
   "version": "3.8.12"
  }
 },
 "nbformat": 4,
 "nbformat_minor": 5
}
